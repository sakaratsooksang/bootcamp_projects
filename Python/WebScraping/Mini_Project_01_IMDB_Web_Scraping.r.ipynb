{
 "cells":[
  {
   "cell_type":"markdown",
   "source":[
    "# **Mini Project 01 - IMDB Web Scraping**"
   ],
   "attachments":{
    
   },
   "metadata":{
    "datalore":{
     "node_id":"ClIL43Evco3HkAlCM8zW2P",
     "type":"MD",
     "hide_input_from_viewers":false,
     "hide_output_from_viewers":false,
     "report_properties":{
      
     }
    }
   }
  },
  {
   "cell_type":"code",
   "source":[
    "library(tidyverse)\n",
    "library(rvest) # scrape data "
   ],
   "execution_count":4,
   "outputs":[
    
   ],
   "metadata":{
    "datalore":{
     "node_id":"pdArbtWa5MpfbgOOCBiRWN",
     "type":"CODE",
     "hide_input_from_viewers":false,
     "hide_output_from_viewers":false,
     "report_properties":{
      
     }
    }
   }
  },
  {
   "cell_type":"code",
   "source":[
    "url <- \"https:\/\/www.imdb.com\/search\/title\/?groups=top_100&sort=user_rating,desc\""
   ],
   "execution_count":5,
   "outputs":[
    
   ],
   "metadata":{
    "datalore":{
     "node_id":"l3QEMtIOcRxSWQzOoCr6rT",
     "type":"CODE",
     "hide_input_from_viewers":false,
     "hide_output_from_viewers":false,
     "report_properties":{
      
     }
    }
   }
  },
  {
   "cell_type":"code",
   "source":[
    "# read html\n",
    "imdb = read_html(url)"
   ],
   "execution_count":6,
   "outputs":[
    
   ],
   "metadata":{
    "datalore":{
     "node_id":"uGeFVHOyYMUv9t2oAEwhGa",
     "type":"CODE",
     "hide_input_from_viewers":false,
     "hide_output_from_viewers":false,
     "report_properties":{
      
     }
    }
   }
  },
  {
   "cell_type":"code",
   "source":[
    "# movie title \n",
    "imdb %>% \n",
    "    html_node(\"h3.lister-item-header\") %>%\n",
    "    html_text()"
   ],
   "execution_count":7,
   "outputs":[
    {
     "data":{
      "text\/html":[
       "<span style=white-space:pre-wrap>'\\n        1.\\n    \\n    The Shawshank Redemption\\n    (1994)\\n'<\/span>"
      ]
     },
     "metadata":{
      
     },
     "output_type":"display_data"
    }
   ],
   "metadata":{
    "datalore":{
     "node_id":"Qh0onAkbiwMKcGLksA46W0",
     "type":"CODE",
     "hide_input_from_viewers":false,
     "hide_output_from_viewers":false,
     "report_properties":{
      
     }
    }
   }
  },
  {
   "cell_type":"markdown",
   "source":[
    "Use html_text2() to delete special character"
   ],
   "attachments":{
    
   },
   "metadata":{
    "datalore":{
     "node_id":"n2z9aPUgWqmnD7WTHXnr2t",
     "type":"MD",
     "hide_input_from_viewers":false,
     "hide_output_from_viewers":false,
     "report_properties":{
      
     }
    }
   }
  },
  {
   "cell_type":"code",
   "source":[
    "imdb %>% \n",
    "    html_node(\"h3.lister-item-header\") %>%\n",
    "    html_text2()"
   ],
   "execution_count":8,
   "outputs":[
    {
     "data":{
      "text\/html":[
       "'1. The Shawshank Redemption (1994)'"
      ]
     },
     "metadata":{
      
     },
     "output_type":"display_data"
    }
   ],
   "metadata":{
    "datalore":{
     "node_id":"M3i7Nu7gpOM4qmxVqxJkew",
     "type":"CODE",
     "hide_input_from_viewers":false,
     "hide_output_from_viewers":false,
     "report_properties":{
      
     }
    }
   }
  },
  {
   "cell_type":"markdown",
   "source":[
    "use html_nodes() to get all nodes "
   ],
   "attachments":{
    
   },
   "metadata":{
    "datalore":{
     "node_id":"dYbs5PY0pBjEJT5xjXcidr",
     "type":"MD",
     "hide_input_from_viewers":false,
     "hide_output_from_viewers":false,
     "report_properties":{
      
     }
    }
   }
  },
  {
   "cell_type":"code",
   "source":[
    "# nodes + text 2 to delete special character\n",
    "titles <- imdb %>% \n",
    "            html_nodes(\"h3.lister-item-header\") %>%\n",
    "            html_text2()"
   ],
   "execution_count":9,
   "outputs":[
    
   ],
   "metadata":{
    "datalore":{
     "node_id":"9S7Aywc85M1S5v1zmWgjdW",
     "type":"CODE",
     "hide_input_from_viewers":false,
     "hide_output_from_viewers":false,
     "report_properties":{
      
     }
    }
   }
  },
  {
   "cell_type":"code",
   "source":[
    "ratings <- imdb %>%\n",
    "                html_nodes(\"div.ratings-bar\") %>%\n",
    "                html_text2()"
   ],
   "execution_count":10,
   "outputs":[
    
   ],
   "metadata":{
    "datalore":{
     "node_id":"WINxqrGPXnnr8VCtaqiVtC",
     "type":"CODE",
     "hide_input_from_viewers":false,
     "hide_output_from_viewers":false,
     "report_properties":{
      
     }
    }
   }
  },
  {
   "cell_type":"code",
   "source":[
    "ratings"
   ],
   "execution_count":11,
   "outputs":[
    {
     "data":{
      "text\/html":[
       "<style>\n",
       ".list-inline {list-style: none; margin:0; padding: 0}\n",
       ".list-inline>li {display: inline-block}\n",
       ".list-inline>li:not(:last-child)::after {content: \"\\00b7\"; padding: 0 .5ex}\n",
       "<\/style>\n",
       "<ol class=list-inline><li>'9.3\\nRate this\\n 1 2 3 4 5 6 7 8 9 10 9.3\/10 X \\n81 Metascore'<\/li><li>'9.2\\nRate this\\n 1 2 3 4 5 6 7 8 9 10 9.2\/10 X \\n100 Metascore'<\/li><li>'9.0\\nRate this\\n 1 2 3 4 5 6 7 8 9 10 9\/10 X \\n84 Metascore'<\/li><li>'9.0\\nRate this\\n 1 2 3 4 5 6 7 8 9 10 9\/10 X \\n94 Metascore'<\/li><li>'9.0\\nRate this\\n 1 2 3 4 5 6 7 8 9 10 9\/10 X \\n94 Metascore'<\/li><li>'9.0\\nRate this\\n 1 2 3 4 5 6 7 8 9 10 9\/10 X \\n90 Metascore'<\/li><li>'9.0\\nRate this\\n 1 2 3 4 5 6 7 8 9 10 9\/10 X \\n96 Metascore'<\/li><li>'8.9\\nRate this\\n 1 2 3 4 5 6 7 8 9 10 8.9\/10 X \\n94 Metascore'<\/li><li>'8.8\\nRate this\\n 1 2 3 4 5 6 7 8 9 10 8.8\/10 X \\n74 Metascore'<\/li><li>'8.8\\nRate this\\n 1 2 3 4 5 6 7 8 9 10 8.8\/10 X \\n87 Metascore'<\/li><li>'8.8\\nRate this\\n 1 2 3 4 5 6 7 8 9 10 8.8\/10 X \\n66 Metascore'<\/li><li>'8.8\\nRate this\\n 1 2 3 4 5 6 7 8 9 10 8.8\/10 X \\n92 Metascore'<\/li><li>'8.8\\nRate this\\n 1 2 3 4 5 6 7 8 9 10 8.8\/10 X \\n82 Metascore'<\/li><li>'8.8\\nRate this\\n 1 2 3 4 5 6 7 8 9 10 8.8\/10 X \\n90 Metascore'<\/li><li>'8.7\\nRate this\\n 1 2 3 4 5 6 7 8 9 10 8.7\/10 X \\n73 Metascore'<\/li><li>'8.7\\nRate this\\n 1 2 3 4 5 6 7 8 9 10 8.7\/10 X \\n90 Metascore'<\/li><li>'8.7\\nRate this\\n 1 2 3 4 5 6 7 8 9 10 8.7\/10 X \\n82 Metascore'<\/li><li>'8.7\\nRate this\\n 1 2 3 4 5 6 7 8 9 10 8.7\/10 X \\n84 Metascore'<\/li><li>'8.6\\nRate this\\n 1 2 3 4 5 6 7 8 9 10 8.6\/10 X \\n74 Metascore'<\/li><li>'8.6\\nRate this\\n 1 2 3 4 5 6 7 8 9 10 8.6\/10 X \\n79 Metascore'<\/li><li>'8.6\\nRate this\\n 1 2 3 4 5 6 7 8 9 10 8.6\/10 X \\n96 Metascore'<\/li><li>'8.6\\nRate this\\n 1 2 3 4 5 6 7 8 9 10 8.6\/10 X \\n91 Metascore'<\/li><li>'8.6\\nRate this\\n 1 2 3 4 5 6 7 8 9 10 8.6\/10 X \\n61 Metascore'<\/li><li>'8.6\\nRate this\\n 1 2 3 4 5 6 7 8 9 10 8.6\/10 X \\n59 Metascore'<\/li><li>'8.6\\nRate this\\n 1 2 3 4 5 6 7 8 9 10 8.6\/10 X \\n65 Metascore'<\/li><li>'8.6\\nRate this\\n 1 2 3 4 5 6 7 8 9 10 8.6\/10 X \\n75 Metascore'<\/li><li>'8.6\\nRate this\\n 1 2 3 4 5 6 7 8 9 10 8.6\/10 X \\n85 Metascore'<\/li><li>'8.6\\nRate this\\n 1 2 3 4 5 6 7 8 9 10 8.6\/10 X \\n90 Metascore'<\/li><li>'8.6\\nRate this\\n 1 2 3 4 5 6 7 8 9 10 8.6\/10 X \\n85 Metascore'<\/li><li>'8.6\\nRate this\\n 1 2 3 4 5 6 7 8 9 10 8.6\/10 X \\n98 Metascore'<\/li><li>'8.6\\nRate this\\n 1 2 3 4 5 6 7 8 9 10 8.6\/10 X \\n89 Metascore'<\/li><li>'8.5\\nRate this\\n 1 2 3 4 5 6 7 8 9 10 8.5\/10 X \\n96 Metascore'<\/li><li>'8.5\\nRate this\\n 1 2 3 4 5 6 7 8 9 10 8.5\/10 X \\n89 Metascore'<\/li><li>'8.5\\nRate this\\n 1 2 3 4 5 6 7 8 9 10 8.5\/10 X \\n57 Metascore'<\/li><li>'8.5\\nRate this\\n 1 2 3 4 5 6 7 8 9 10 8.5\/10 X \\n66 Metascore'<\/li><li>'8.5\\nRate this\\n 1 2 3 4 5 6 7 8 9 10 8.5\/10 X \\n85 Metascore'<\/li><li>'8.5\\nRate this\\n 1 2 3 4 5 6 7 8 9 10 8.5\/10 X \\n85 Metascore'<\/li><li>'8.5\\nRate this\\n 1 2 3 4 5 6 7 8 9 10 8.5\/10 X \\n67 Metascore'<\/li><li>'8.5\\nRate this\\n 1 2 3 4 5 6 7 8 9 10 8.5\/10 X \\n62 Metascore'<\/li><li>'8.5\\nRate this\\n 1 2 3 4 5 6 7 8 9 10 8.5\/10 X \\n77 Metascore'<\/li><li>'8.5\\nRate this\\n 1 2 3 4 5 6 7 8 9 10 8.5\/10 X \\n64 Metascore'<\/li><li>'8.5\\nRate this\\n 1 2 3 4 5 6 7 8 9 10 8.5\/10 X \\n88 Metascore'<\/li><li>'8.5\\nRate this\\n 1 2 3 4 5 6 7 8 9 10 8.5\/10 X \\n80 Metascore'<\/li><li>'8.5\\nRate this\\n 1 2 3 4 5 6 7 8 9 10 8.5\/10 X \\n94 Metascore'<\/li><li>'8.5\\nRate this\\n 1 2 3 4 5 6 7 8 9 10 8.5\/10 X \\n87 Metascore'<\/li><li>'8.5\\nRate this\\n 1 2 3 4 5 6 7 8 9 10 8.5\/10 X \\n94 Metascore'<\/li><li>'8.5\\nRate this\\n 1 2 3 4 5 6 7 8 9 10 8.5\/10 X \\n89 Metascore'<\/li><li>'8.5\\nRate this\\n 1 2 3 4 5 6 7 8 9 10 8.5\/10 X \\n80 Metascore'<\/li><li>'8.5\\nRate this\\n 1 2 3 4 5 6 7 8 9 10 8.5\/10 X \\n97 Metascore'<\/li><li>'8.5\\nRate this\\n 1 2 3 4 5 6 7 8 9 10 8.5\/10 X \\n100 Metascore'<\/li><\/ol>\n"
      ]
     },
     "metadata":{
      
     },
     "output_type":"display_data"
    }
   ],
   "metadata":{
    "datalore":{
     "node_id":"ahQqbTRqa0kMsl19yye5T3",
     "type":"CODE",
     "hide_input_from_viewers":false,
     "hide_output_from_viewers":false,
     "report_properties":{
      
     }
    }
   }
  },
  {
   "cell_type":"markdown",
   "source":[
    "More specify "
   ],
   "attachments":{
    
   },
   "metadata":{
    "datalore":{
     "node_id":"K55684LNxxOU5kMVbtoJRn",
     "type":"MD",
     "hide_input_from_viewers":false,
     "hide_output_from_viewers":false,
     "report_properties":{
      
     }
    }
   }
  },
  {
   "cell_type":"markdown",
   "source":[
    "<div class=\"inline-block **ratings-imdb-rating**\" name=\"ir\" data-value=\"9.3\">\n",
    "        <span class=\"global-sprite rating-star imdb-rating\"><\/span>\n",
    "        <strong>9.3<\/strong>\n",
    "<\/div>"
   ],
   "attachments":{
    
   },
   "metadata":{
    "datalore":{
     "node_id":"ppCJ122f1GQRy0h0e0V4Lf",
     "type":"MD",
     "hide_input_from_viewers":false,
     "hide_output_from_viewers":false,
     "report_properties":{
      
     }
    }
   }
  },
  {
   "cell_type":"code",
   "source":[
    "\n",
    "ratings <- imdb %>%\n",
    "                html_nodes(\"div.ratings-imdb-rating\") %>%\n",
    "                html_text2() %>% \n",
    "                as.numeric()"
   ],
   "execution_count":16,
   "outputs":[
    
   ],
   "metadata":{
    "datalore":{
     "node_id":"v6Lljpe8t1OUoUbxYaQrL7",
     "type":"CODE",
     "hide_input_from_viewers":false,
     "hide_output_from_viewers":false,
     "report_properties":{
      
     }
    }
   }
  },
  {
   "cell_type":"code",
   "source":[
    "ratings[1:10]"
   ],
   "execution_count":18,
   "outputs":[
    {
     "data":{
      "text\/html":[
       "<style>\n",
       ".list-inline {list-style: none; margin:0; padding: 0}\n",
       ".list-inline>li {display: inline-block}\n",
       ".list-inline>li:not(:last-child)::after {content: \"\\00b7\"; padding: 0 .5ex}\n",
       "<\/style>\n",
       "<ol class=list-inline><li>9.3<\/li><li>9.2<\/li><li>9<\/li><li>9<\/li><li>9<\/li><li>9<\/li><li>9<\/li><li>8.9<\/li><li>8.8<\/li><li>8.8<\/li><\/ol>\n"
      ]
     },
     "metadata":{
      
     },
     "output_type":"display_data"
    }
   ],
   "metadata":{
    "datalore":{
     "node_id":"Ixt7nwdVWNlKWGJPawyYkw",
     "type":"CODE",
     "hide_input_from_viewers":false,
     "hide_output_from_viewers":false,
     "report_properties":{
      
     }
    }
   }
  },
  {
   "cell_type":"markdown",
   "source":[
    "sort-num_votes-visible"
   ],
   "attachments":{
    
   },
   "metadata":{
    "datalore":{
     "node_id":"OJWtpOqL809SvpSbt8y1pR",
     "type":"MD",
     "hide_input_from_viewers":false,
     "hide_output_from_viewers":false,
     "report_properties":{
      
     }
    }
   }
  },
  {
   "cell_type":"code",
   "source":[
    "\n",
    "num_votes <- imdb %>%\n",
    "                html_nodes(\"p.sort-num_votes-visible\") %>%\n",
    "                html_text2()"
   ],
   "execution_count":19,
   "outputs":[
    
   ],
   "metadata":{
    "datalore":{
     "node_id":"GWz4jzN4nSPiAmvcVsbjtE",
     "type":"CODE",
     "hide_input_from_viewers":false,
     "hide_output_from_viewers":false,
     "report_properties":{
      
     }
    }
   }
  },
  {
   "cell_type":"code",
   "source":[
    "num_votes"
   ],
   "execution_count":20,
   "outputs":[
    {
     "data":{
      "text\/html":[
       "<style>\n",
       ".list-inline {list-style: none; margin:0; padding: 0}\n",
       ".list-inline>li {display: inline-block}\n",
       ".list-inline>li:not(:last-child)::after {content: \"\\00b7\"; padding: 0 .5ex}\n",
       "<\/style>\n",
       "<ol class=list-inline><li>'Votes: 2,663,139 | Gross: $28.34M | Top 250: #1'<\/li><li>'Votes: 1,845,558 | Gross: $134.97M | Top 250: #2'<\/li><li>'Votes: 2,636,108 | Gross: $534.86M | Top 250: #3'<\/li><li>'Votes: 1,836,147 | Gross: $377.85M | Top 250: #7'<\/li><li>'Votes: 1,348,615 | Gross: $96.90M | Top 250: #6'<\/li><li>'Votes: 1,264,167 | Gross: $57.30M | Top 250: #4'<\/li><li>'Votes: 786,448 | Gross: $4.36M | Top 250: #5'<\/li><li>'Votes: 2,038,401 | Gross: $107.93M | Top 250: #8'<\/li><li>'Votes: 2,335,887 | Gross: $292.58M | Top 250: #14'<\/li><li>'Votes: 1,657,995 | Gross: $342.55M | Top 250: #13'<\/li><li>'Votes: 2,108,466 | Gross: $37.03M | Top 250: #12'<\/li><li>'Votes: 1,865,200 | Gross: $315.54M | Top 250: #9'<\/li><li>'Votes: 2,063,961 | Gross: $330.25M | Top 250: #11'<\/li><li>'Votes: 759,067 | Gross: $6.10M | Top 250: #10'<\/li><li>'Votes: 1,902,896 | Gross: $171.48M | Top 250: #16'<\/li><li>'Votes: 1,154,144 | Gross: $46.84M | Top 250: #17'<\/li><li>'Votes: 1,286,123 | Gross: $290.48M | Top 250: #15'<\/li><li>'Votes: 1,004,396 | Gross: $112.00M | Top 250: #18'<\/li><li>'Votes: 1,809,541 | Gross: $188.02M | Top 250: #26'<\/li><li>'Votes: 754,793 | Gross: $7.56M | Top 250: #23'<\/li><li>'Votes: 758,735 | Gross: $10.06M | Top 250: #31'<\/li><li>'Votes: 1,384,159 | Gross: $216.54M | Top 250: #24'<\/li><li>'Votes: 1,294,084 | Gross: $136.80M | Top 250: #27'<\/li><li>'Votes: 692,439 | Gross: $57.60M | Top 250: #25'<\/li><li>'Votes: 1,641,455 | Gross: $100.13M | Top 250: #19'<\/li><li>'Votes: 1,094,275 | Gross: $204.84M | Top 250: #29'<\/li><li>'Votes: 1,424,830 | Gross: $130.74M | Top 250: #22'<\/li><li>'Votes: 1,358,684 | Gross: $322.74M | Top 250: #28'<\/li><li>'Votes: 57,259 | Top 250: #44'<\/li><li>'Votes: 345,637 | Gross: $0.27M | Top 250: #20'<\/li><li>'Votes: 454,348 | Top 250: #21'<\/li><li>'Votes: 792,050 | Gross: $53.37M | Top 250: #34'<\/li><li>'Votes: 852,112 | Gross: $13.09M | Top 250: #42'<\/li><li>'Votes: 854,067 | Gross: $13.18M | Top 250: #45'<\/li><li>'Votes: 1,326,546 | Gross: $53.09M | Top 250: #41'<\/li><li>'Votes: 1,318,727 | Gross: $132.38M | Top 250: #39'<\/li><li>'Votes: 828,067 | Gross: $32.57M | Top 250: #33'<\/li><li>'Votes: 1,492,416 | Gross: $187.71M | Top 250: #37'<\/li><li>'Votes: 1,118,702 | Gross: $6.72M | Top 250: #38'<\/li><li>'Votes: 1,081,639 | Gross: $23.34M | Top 250: #40'<\/li><li>'Votes: 1,155,603 | Gross: $19.50M | Top 250: #35'<\/li><li>'Votes: 1,053,003 | Gross: $422.78M | Top 250: #36'<\/li><li>'Votes: 260,987 | Gross: $11.99M | Top 250: #52'<\/li><li>'Votes: 276,719 | Top 250: #46'<\/li><li>'Votes: 1,197,829 | Gross: $210.61M | Top 250: #30'<\/li><li>'Votes: 665,749 | Gross: $83.47M | Top 250: #53'<\/li><li>'Votes: 879,080 | Gross: $78.90M | Top 250: #50'<\/li><li>'Votes: 329,179 | Gross: $5.32M | Top 250: #48'<\/li><li>'Votes: 670,246 | Gross: $32.00M | Top 250: #32'<\/li><li>'Votes: 491,061 | Gross: $36.76M | Top 250: #49'<\/li><\/ol>\n"
      ]
     },
     "metadata":{
      
     },
     "output_type":"display_data"
    }
   ],
   "metadata":{
    "datalore":{
     "node_id":"arO7xOZrlmujMpCCf5u84e",
     "type":"CODE",
     "hide_input_from_viewers":false,
     "hide_output_from_viewers":false,
     "report_properties":{
      
     }
    }
   }
  },
  {
   "cell_type":"code",
   "source":[
    "# build a data set\n",
    "df <- data.frame(\n",
    "    title = titles,\n",
    "    rating = ratings,\n",
    "    num_vote = num_votes\n",
    ")\n",
    "head(df)"
   ],
   "execution_count":21,
   "outputs":[
    {
     "data":{
      "text\/html":[
       "<table class=\"dataframe\">\n",
       "<caption>A data.frame: 6 × 3<\/caption>\n",
       "<thead>\n",
       "\t<tr><th><\/th><th scope=col>title<\/th><th scope=col>rating<\/th><th scope=col>num_vote<\/th><\/tr>\n",
       "\t<tr><th><\/th><th scope=col>&lt;chr&gt;<\/th><th scope=col>&lt;dbl&gt;<\/th><th scope=col>&lt;chr&gt;<\/th><\/tr>\n",
       "<\/thead>\n",
       "<tbody>\n",
       "\t<tr><th scope=row>1<\/th><td>1. The Shawshank Redemption (1994)                     <\/td><td>9.3<\/td><td>Votes: 2,663,139 | Gross: $28.34M | Top 250: #1 <\/td><\/tr>\n",
       "\t<tr><th scope=row>2<\/th><td>2. The Godfather (1972)                                <\/td><td>9.2<\/td><td>Votes: 1,845,558 | Gross: $134.97M | Top 250: #2<\/td><\/tr>\n",
       "\t<tr><th scope=row>3<\/th><td>3. The Dark Knight (2008)                              <\/td><td>9.0<\/td><td>Votes: 2,636,108 | Gross: $534.86M | Top 250: #3<\/td><\/tr>\n",
       "\t<tr><th scope=row>4<\/th><td>4. The Lord of the Rings: The Return of the King (2003)<\/td><td>9.0<\/td><td>Votes: 1,836,147 | Gross: $377.85M | Top 250: #7<\/td><\/tr>\n",
       "\t<tr><th scope=row>5<\/th><td>5. Schindler's List (1993)                             <\/td><td>9.0<\/td><td>Votes: 1,348,615 | Gross: $96.90M | Top 250: #6 <\/td><\/tr>\n",
       "\t<tr><th scope=row>6<\/th><td>6. The Godfather Part II (1974)                        <\/td><td>9.0<\/td><td>Votes: 1,264,167 | Gross: $57.30M | Top 250: #4 <\/td><\/tr>\n",
       "<\/tbody>\n",
       "<\/table>\n"
      ]
     },
     "metadata":{
      
     },
     "output_type":"display_data"
    }
   ],
   "metadata":{
    "datalore":{
     "node_id":"UDb9pgqnnoPandrOw5Krt1",
     "type":"CODE",
     "hide_input_from_viewers":false,
     "hide_output_from_viewers":false,
     "report_properties":{
      
     }
    }
   }
  },
  {
   "cell_type":"code",
   "source":[
    
   ],
   "execution_count":null,
   "outputs":[
    
   ],
   "metadata":{
    "datalore":{
     "node_id":"qYD2CjwW9vAFxEbqhcWVVY",
     "type":"CODE",
     "hide_input_from_viewers":false,
     "hide_output_from_viewers":false,
     "report_properties":{
      
     }
    }
   }
  }
 ],
 "metadata":{
  "kernelspec":{
   "display_name":"R",
   "language":"r",
   "name":"ir"
  },
  "datalore":{
   "version":1,
   "computation_mode":"JUPYTER",
   "package_manager":"conda",
   "base_environment":"minimal",
   "packages":[
    
   ]
  }
 },
 "nbformat":4,
 "nbformat_minor":4
}